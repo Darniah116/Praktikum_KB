{
 "cells": [
  {
   "cell_type": "markdown",
   "id": "74a48744",
   "metadata": {},
   "source": [
    "## Import Package"
   ]
  },
  {
   "cell_type": "code",
   "execution_count": 1,
   "id": "6f7d15c0",
   "metadata": {},
   "outputs": [],
   "source": [
    "import pandas as pd\n",
    "import numpy as np\n",
    "import matplotlib.pyplot as plt\n",
    "from sklearn.cluster import KMeans\n",
    "import seaborn as sns\n",
    "\n",
    "import warnings "
   ]
  },
  {
   "cell_type": "code",
   "execution_count": 2,
   "id": "6851c34f",
   "metadata": {},
   "outputs": [],
   "source": [
    "warnings.filterwarnings('ignore')\n"
   ]
  },
  {
   "cell_type": "code",
   "execution_count": 3,
   "id": "3d8cf279",
   "metadata": {},
   "outputs": [
    {
     "data": {
      "text/html": [
       "<div>\n",
       "<style scoped>\n",
       "    .dataframe tbody tr th:only-of-type {\n",
       "        vertical-align: middle;\n",
       "    }\n",
       "\n",
       "    .dataframe tbody tr th {\n",
       "        vertical-align: top;\n",
       "    }\n",
       "\n",
       "    .dataframe thead th {\n",
       "        text-align: right;\n",
       "    }\n",
       "</style>\n",
       "<table border=\"1\" class=\"dataframe\">\n",
       "  <thead>\n",
       "    <tr style=\"text-align: right;\">\n",
       "      <th></th>\n",
       "      <th>_unit_id</th>\n",
       "      <th>category</th>\n",
       "      <th>category:confidence</th>\n",
       "      <th>image_url</th>\n",
       "    </tr>\n",
       "  </thead>\n",
       "  <tbody>\n",
       "    <tr>\n",
       "      <th>0</th>\n",
       "      <td>851505458</td>\n",
       "      <td>ikat</td>\n",
       "      <td>0.3487</td>\n",
       "      <td>http://s3-eu-west-1.amazonaws.com/we-attribute...</td>\n",
       "    </tr>\n",
       "    <tr>\n",
       "      <th>1</th>\n",
       "      <td>851505459</td>\n",
       "      <td>plain</td>\n",
       "      <td>1.0000</td>\n",
       "      <td>http://s3-eu-west-1.amazonaws.com/we-attribute...</td>\n",
       "    </tr>\n",
       "    <tr>\n",
       "      <th>2</th>\n",
       "      <td>851505460</td>\n",
       "      <td>polka dot</td>\n",
       "      <td>0.6709</td>\n",
       "      <td>http://s3-eu-west-1.amazonaws.com/we-attribute...</td>\n",
       "    </tr>\n",
       "    <tr>\n",
       "      <th>3</th>\n",
       "      <td>851505461</td>\n",
       "      <td>plain</td>\n",
       "      <td>1.0000</td>\n",
       "      <td>http://s3-eu-west-1.amazonaws.com/we-attribute...</td>\n",
       "    </tr>\n",
       "    <tr>\n",
       "      <th>4</th>\n",
       "      <td>851505462</td>\n",
       "      <td>geometry</td>\n",
       "      <td>0.7035</td>\n",
       "      <td>http://s3-eu-west-1.amazonaws.com/we-attribute...</td>\n",
       "    </tr>\n",
       "  </tbody>\n",
       "</table>\n",
       "</div>"
      ],
      "text/plain": [
       "    _unit_id   category  category:confidence  \\\n",
       "0  851505458       ikat               0.3487   \n",
       "1  851505459      plain               1.0000   \n",
       "2  851505460  polka dot               0.6709   \n",
       "3  851505461      plain               1.0000   \n",
       "4  851505462   geometry               0.7035   \n",
       "\n",
       "                                           image_url  \n",
       "0  http://s3-eu-west-1.amazonaws.com/we-attribute...  \n",
       "1  http://s3-eu-west-1.amazonaws.com/we-attribute...  \n",
       "2  http://s3-eu-west-1.amazonaws.com/we-attribute...  \n",
       "3  http://s3-eu-west-1.amazonaws.com/we-attribute...  \n",
       "4  http://s3-eu-west-1.amazonaws.com/we-attribute...  "
      ]
     },
     "execution_count": 3,
     "metadata": {},
     "output_type": "execute_result"
    }
   ],
   "source": [
    "df = pd.read_csv(\"dress.csv\")\n",
    "df.head()"
   ]
  },
  {
   "cell_type": "code",
   "execution_count": 4,
   "id": "8399e134",
   "metadata": {},
   "outputs": [
    {
     "data": {
      "text/plain": [
       "_unit_id               0\n",
       "category               0\n",
       "category:confidence    0\n",
       "image_url              0\n",
       "dtype: int64"
      ]
     },
     "execution_count": 4,
     "metadata": {},
     "output_type": "execute_result"
    }
   ],
   "source": [
    "df.isna().sum()"
   ]
  },
  {
   "cell_type": "code",
   "execution_count": 5,
   "id": "7d3b40a5",
   "metadata": {},
   "outputs": [
    {
     "name": "stdout",
     "output_type": "stream",
     "text": [
      "<class 'pandas.core.frame.DataFrame'>\n",
      "RangeIndex: 15702 entries, 0 to 15701\n",
      "Data columns (total 4 columns):\n",
      " #   Column               Non-Null Count  Dtype  \n",
      "---  ------               --------------  -----  \n",
      " 0   _unit_id             15702 non-null  int64  \n",
      " 1   category             15702 non-null  object \n",
      " 2   category:confidence  15702 non-null  float64\n",
      " 3   image_url            15702 non-null  object \n",
      "dtypes: float64(1), int64(1), object(2)\n",
      "memory usage: 490.8+ KB\n"
     ]
    }
   ],
   "source": [
    "df.info()"
   ]
  },
  {
   "cell_type": "code",
   "execution_count": 6,
   "id": "8026c62b",
   "metadata": {},
   "outputs": [
    {
     "data": {
      "text/html": [
       "<div>\n",
       "<style scoped>\n",
       "    .dataframe tbody tr th:only-of-type {\n",
       "        vertical-align: middle;\n",
       "    }\n",
       "\n",
       "    .dataframe tbody tr th {\n",
       "        vertical-align: top;\n",
       "    }\n",
       "\n",
       "    .dataframe thead th {\n",
       "        text-align: right;\n",
       "    }\n",
       "</style>\n",
       "<table border=\"1\" class=\"dataframe\">\n",
       "  <thead>\n",
       "    <tr style=\"text-align: right;\">\n",
       "      <th></th>\n",
       "      <th>_unit_id</th>\n",
       "      <th>category:confidence</th>\n",
       "    </tr>\n",
       "  </thead>\n",
       "  <tbody>\n",
       "    <tr>\n",
       "      <th>_unit_id</th>\n",
       "      <td>1.000000</td>\n",
       "      <td>0.003979</td>\n",
       "    </tr>\n",
       "    <tr>\n",
       "      <th>category:confidence</th>\n",
       "      <td>0.003979</td>\n",
       "      <td>1.000000</td>\n",
       "    </tr>\n",
       "  </tbody>\n",
       "</table>\n",
       "</div>"
      ],
      "text/plain": [
       "                     _unit_id  category:confidence\n",
       "_unit_id             1.000000             0.003979\n",
       "category:confidence  0.003979             1.000000"
      ]
     },
     "execution_count": 6,
     "metadata": {},
     "output_type": "execute_result"
    }
   ],
   "source": [
    "df.corr()"
   ]
  },
  {
   "cell_type": "markdown",
   "id": "fb400b76",
   "metadata": {},
   "source": [
    "## Kmean Clustering\n",
    "\n",
    "Algoritma ini menemukan kelompok data dengan nilai squared error antara rata-rata empiris dari cluster dan point di cluster minimum. Algoritma ini termasuk dalam clustering dengan pendekatan partitional. K == cluster harus ditentukan. Centroid pada umumnya dipilih secara random. Biasanya centroid merupakan rata-rata dari point pada cluster. Untuk menentukan setiap data point masuk ke cluster mana, digunakan pengukuran kedekatan(jarak) dengan Euclidean distance,cosine similarity, korelasi, dan lain sebagainya."
   ]
  },
  {
   "cell_type": "code",
   "execution_count": 7,
   "id": "5e358a3a",
   "metadata": {},
   "outputs": [],
   "source": [
    "points = df[['category:confidence', '_unit_id']]\n",
    "points = points.values\n",
    "#print(points)"
   ]
  },
  {
   "cell_type": "code",
   "execution_count": 8,
   "id": "87ae8a8a",
   "metadata": {},
   "outputs": [],
   "source": [
    "from sklearn.preprocessing import StandardScaler\n",
    "\n",
    "df_subset = df[[\"category:confidence\",\"_unit_id\"]]\n",
    "\n",
    "ss = StandardScaler()\n",
    "x_scaled = ss.fit_transform(df_subset)"
   ]
  },
  {
   "cell_type": "code",
   "execution_count": 9,
   "id": "502878a2",
   "metadata": {},
   "outputs": [
    {
     "data": {
      "text/html": [
       "<style>#sk-container-id-1 {color: black;background-color: white;}#sk-container-id-1 pre{padding: 0;}#sk-container-id-1 div.sk-toggleable {background-color: white;}#sk-container-id-1 label.sk-toggleable__label {cursor: pointer;display: block;width: 100%;margin-bottom: 0;padding: 0.3em;box-sizing: border-box;text-align: center;}#sk-container-id-1 label.sk-toggleable__label-arrow:before {content: \"▸\";float: left;margin-right: 0.25em;color: #696969;}#sk-container-id-1 label.sk-toggleable__label-arrow:hover:before {color: black;}#sk-container-id-1 div.sk-estimator:hover label.sk-toggleable__label-arrow:before {color: black;}#sk-container-id-1 div.sk-toggleable__content {max-height: 0;max-width: 0;overflow: hidden;text-align: left;background-color: #f0f8ff;}#sk-container-id-1 div.sk-toggleable__content pre {margin: 0.2em;color: black;border-radius: 0.25em;background-color: #f0f8ff;}#sk-container-id-1 input.sk-toggleable__control:checked~div.sk-toggleable__content {max-height: 200px;max-width: 100%;overflow: auto;}#sk-container-id-1 input.sk-toggleable__control:checked~label.sk-toggleable__label-arrow:before {content: \"▾\";}#sk-container-id-1 div.sk-estimator input.sk-toggleable__control:checked~label.sk-toggleable__label {background-color: #d4ebff;}#sk-container-id-1 div.sk-label input.sk-toggleable__control:checked~label.sk-toggleable__label {background-color: #d4ebff;}#sk-container-id-1 input.sk-hidden--visually {border: 0;clip: rect(1px 1px 1px 1px);clip: rect(1px, 1px, 1px, 1px);height: 1px;margin: -1px;overflow: hidden;padding: 0;position: absolute;width: 1px;}#sk-container-id-1 div.sk-estimator {font-family: monospace;background-color: #f0f8ff;border: 1px dotted black;border-radius: 0.25em;box-sizing: border-box;margin-bottom: 0.5em;}#sk-container-id-1 div.sk-estimator:hover {background-color: #d4ebff;}#sk-container-id-1 div.sk-parallel-item::after {content: \"\";width: 100%;border-bottom: 1px solid gray;flex-grow: 1;}#sk-container-id-1 div.sk-label:hover label.sk-toggleable__label {background-color: #d4ebff;}#sk-container-id-1 div.sk-serial::before {content: \"\";position: absolute;border-left: 1px solid gray;box-sizing: border-box;top: 0;bottom: 0;left: 50%;z-index: 0;}#sk-container-id-1 div.sk-serial {display: flex;flex-direction: column;align-items: center;background-color: white;padding-right: 0.2em;padding-left: 0.2em;position: relative;}#sk-container-id-1 div.sk-item {position: relative;z-index: 1;}#sk-container-id-1 div.sk-parallel {display: flex;align-items: stretch;justify-content: center;background-color: white;position: relative;}#sk-container-id-1 div.sk-item::before, #sk-container-id-1 div.sk-parallel-item::before {content: \"\";position: absolute;border-left: 1px solid gray;box-sizing: border-box;top: 0;bottom: 0;left: 50%;z-index: -1;}#sk-container-id-1 div.sk-parallel-item {display: flex;flex-direction: column;z-index: 1;position: relative;background-color: white;}#sk-container-id-1 div.sk-parallel-item:first-child::after {align-self: flex-end;width: 50%;}#sk-container-id-1 div.sk-parallel-item:last-child::after {align-self: flex-start;width: 50%;}#sk-container-id-1 div.sk-parallel-item:only-child::after {width: 0;}#sk-container-id-1 div.sk-dashed-wrapped {border: 1px dashed gray;margin: 0 0.4em 0.5em 0.4em;box-sizing: border-box;padding-bottom: 0.4em;background-color: white;}#sk-container-id-1 div.sk-label label {font-family: monospace;font-weight: bold;display: inline-block;line-height: 1.2em;}#sk-container-id-1 div.sk-label-container {text-align: center;}#sk-container-id-1 div.sk-container {/* jupyter's `normalize.less` sets `[hidden] { display: none; }` but bootstrap.min.css set `[hidden] { display: none !important; }` so we also need the `!important` here to be able to override the default hidden behavior on the sphinx rendered scikit-learn.org. See: https://github.com/scikit-learn/scikit-learn/issues/21755 */display: inline-block !important;position: relative;}#sk-container-id-1 div.sk-text-repr-fallback {display: none;}</style><div id=\"sk-container-id-1\" class=\"sk-top-container\"><div class=\"sk-text-repr-fallback\"><pre>KMeans(n_clusters=5)</pre><b>In a Jupyter environment, please rerun this cell to show the HTML representation or trust the notebook. <br />On GitHub, the HTML representation is unable to render, please try loading this page with nbviewer.org.</b></div><div class=\"sk-container\" hidden><div class=\"sk-item\"><div class=\"sk-estimator sk-toggleable\"><input class=\"sk-toggleable__control sk-hidden--visually\" id=\"sk-estimator-id-1\" type=\"checkbox\" checked><label for=\"sk-estimator-id-1\" class=\"sk-toggleable__label sk-toggleable__label-arrow\">KMeans</label><div class=\"sk-toggleable__content\"><pre>KMeans(n_clusters=5)</pre></div></div></div></div></div>"
      ],
      "text/plain": [
       "KMeans(n_clusters=5)"
      ]
     },
     "execution_count": 9,
     "metadata": {},
     "output_type": "execute_result"
    }
   ],
   "source": [
    "model =KMeans(n_clusters=5)\n",
    "model.fit(points)"
   ]
  },
  {
   "cell_type": "code",
   "execution_count": 10,
   "id": "7bc59add",
   "metadata": {},
   "outputs": [
    {
     "name": "stdout",
     "output_type": "stream",
     "text": [
      "[1 0 3 ... 4 4 2]\n"
     ]
    }
   ],
   "source": [
    "# Lakukan fit terhadap model\n",
    "model.fit(x_scaled)\n",
    "# Tentukan label untuk cluster\n",
    "labels = model.labels_\n",
    "print(labels)"
   ]
  },
  {
   "cell_type": "code",
   "execution_count": 11,
   "id": "87e1c2cd",
   "metadata": {},
   "outputs": [
    {
     "name": "stdout",
     "output_type": "stream",
     "text": [
      "[1 0 3 ... 2 2 4]\n"
     ]
    }
   ],
   "source": [
    "# Lakukan fit terhadap model\n",
    "model.fit(x_scaled)\n",
    "# Tentukan label untuk cluster\n",
    "labels = model.labels_\n",
    "print(labels)"
   ]
  },
  {
   "cell_type": "code",
   "execution_count": 12,
   "id": "333ec3ea",
   "metadata": {},
   "outputs": [
    {
     "name": "stdout",
     "output_type": "stream",
     "text": [
      "[3 3 3 ... 1 1 2]\n"
     ]
    }
   ],
   "source": [
    "y = model.fit_predict(points)\n",
    "print(y)"
   ]
  },
  {
   "cell_type": "code",
   "execution_count": 13,
   "id": "10428742",
   "metadata": {},
   "outputs": [],
   "source": [
    "#menampung koordinat dari tiap centroid\n",
    "centroid = model.cluster_centers_\n",
    "\n",
    "centroid_x = centroid[:,0]\n",
    "centroid_y = centroid[:,1]"
   ]
  },
  {
   "cell_type": "code",
   "execution_count": 14,
   "id": "e6df329d",
   "metadata": {},
   "outputs": [
    {
     "data": {
      "text/plain": [
       "array([[8.60526958e-01, 8.51518997e+08],\n",
       "       [8.60725000e-01, 8.54497400e+08],\n",
       "       [9.61800000e-01, 8.56388654e+08],\n",
       "       [8.53607232e-01, 8.51508144e+08],\n",
       "       [8.56053354e-01, 8.51513603e+08]])"
      ]
     },
     "execution_count": 14,
     "metadata": {},
     "output_type": "execute_result"
    }
   ],
   "source": [
    "centroid"
   ]
  },
  {
   "cell_type": "markdown",
   "id": "cde27b49",
   "metadata": {},
   "source": [
    "### Melihat Centroid yang telah dibuat"
   ]
  },
  {
   "cell_type": "code",
   "execution_count": 15,
   "id": "a7074cc5",
   "metadata": {},
   "outputs": [
    {
     "data": {
      "image/png": "[encoded data removed]",
      "text/plain": [
       "<Figure size 720x720 with 1 Axes>"
      ]
     },
     "metadata": {
      "needs_background": "light"
     },
     "output_type": "display_data"
    }
   ],
   "source": [
    "# xs = points.iloc[:,0]\n",
    "# ys = points.iloc[:,1]\n",
    "\n",
    "centroids = model.cluster_centers_\n",
    "\n",
    "centroid_x = centroids[:,0]\n",
    "centroid_y = centroids[:,1]\n",
    "\n",
    "plt.figure(figsize=(10,10))\n",
    "plt.scatter(points[y==0,0],points[y==0,1], c='green', label='customer 1', alpha=0.5)\n",
    "plt.scatter(points[y==1,0],points[y==1,1], c='blue', label='customer 2', alpha=0.5)\n",
    "plt.scatter(points[y==2,0],points[y==2,1], c='red', label='customer 3', alpha=0.5)\n",
    "#plt.scatter(points[y==3,0],points[y==3,1], c='purple', label='customer 4',alpha=0.5)\n",
    "#plt.scatter(points[y==4,0],points[y==4,1], c='orange', label='customer 5',alpha=0.5)\n",
    "\n",
    "plt.scatter(centroid_x, centroid_y, marker=\"D\", s=50, label=\"Centroid\", c='black')\n",
    "plt.xlabel(\"category:confidence\")\n",
    "plt.ylabel(\"_unit_id\")\n",
    "plt.legend()\n",
    "plt.show()\n"
   ]
  },
  {
   "cell_type": "markdown",
   "id": "33022cfd",
   "metadata": {},
   "source": [
    "### Menentukan Jumlah Cluster (Elbow Method)"
   ]
  },
  {
   "cell_type": "code",
   "execution_count": 16,
   "id": "72bd809b",
   "metadata": {},
   "outputs": [],
   "source": [
    "cluster = range(1,7)\n",
    "inertias = []\n",
    "\n",
    "for n in cluster :\n",
    "    model = KMeans(n_clusters=n)\n",
    "    model.fit(points)\n",
    "    inertias.append(model.inertia_)"
   ]
  },
  {
   "cell_type": "code",
   "execution_count": 17,
   "id": "a2763a20",
   "metadata": {},
   "outputs": [
    {
     "data": {
      "image/png": "[encoded data removed]",
      "text/plain": [
       "<Figure size 720x504 with 1 Axes>"
      ]
     },
     "metadata": {
      "needs_background": "light"
     },
     "output_type": "display_data"
    }
   ],
   "source": [
    "plt.figure(figsize = (10,7))\n",
    "plt.plot(cluster, inertias, '-o')\n",
    "plt.xlabel(\"jumlah Cluster\")\n",
    "plt.ylabel(\"inertia\")\n",
    "plt.xticks(cluster)\n",
    "plt.show()"
   ]
  },
  {
   "cell_type": "markdown",
   "id": "f6ae0e3b",
   "metadata": {},
   "source": [
    "## Hierarchical Clustering\n",
    "\n",
    "Algoritma ini menghasilkan sekumpulan cluster bersarang dalam bentuk hirarki pohon. Algoritma ini dapat divisualisasikan menggunakan dendogram atau bubble. Algoritma ini tidak harus menentukan jumlah cluster. Jumlah cluster yang diinginkan didapatkan dengan memotong dendogram pada level yang tepat.\n"
   ]
  },
  {
   "cell_type": "markdown",
   "id": "14ff122f",
   "metadata": {},
   "source": [
    "#### AgglomerativeClustering"
   ]
  },
  {
   "cell_type": "code",
   "execution_count": 18,
   "id": "4f38860b",
   "metadata": {},
   "outputs": [],
   "source": [
    "from scipy.cluster.hierarchy import dendrogram, linkage, complete\n",
    "\n",
    "\n",
    "from sklearn.cluster import AgglomerativeClustering\n",
    "\n",
    "#Buat objek dari AgglomerativeClustering dengan jumlah cluster : 3\n",
    "hc_cluster = AgglomerativeClustering(n_clusters=3)"
   ]
  },
  {
   "cell_type": "code",
   "execution_count": 19,
   "id": "8d3dc376",
   "metadata": {},
   "outputs": [],
   "source": [
    "from sklearn.cluster import AgglomerativeClustering"
   ]
  },
  {
   "cell_type": "code",
   "execution_count": 20,
   "id": "3d480416",
   "metadata": {},
   "outputs": [],
   "source": [
    "linkage_hr = linkage(points, method='ward')"
   ]
  },
  {
   "cell_type": "code",
   "execution_count": 21,
   "id": "3dac2295",
   "metadata": {},
   "outputs": [
    {
     "data": {
      "image/png": "[encoded data removed]",
      "text/plain": [
       "<Figure size 720x504 with 1 Axes>"
      ]
     },
     "metadata": {
      "needs_background": "light"
     },
     "output_type": "display_data"
    }
   ],
   "source": [
    "plt.figure(figsize=(10,7))\n",
    "dendrogram(linkage_hr)\n",
    "plt.title(\"Dendrogram Linkage\")\n",
    "plt.xlabel(\"category:confidence\")\n",
    "plt.ylabel(\"_unit_id\")\n",
    "plt.show()"
   ]
  },
  {
   "cell_type": "code",
   "execution_count": 22,
   "id": "6b7c9d3a",
   "metadata": {},
   "outputs": [],
   "source": [
    "hr_cluster = AgglomerativeClustering(n_clusters=5, affinity='euclidean', linkage='ward')"
   ]
  },
  {
   "cell_type": "code",
   "execution_count": 23,
   "id": "5baf9ceb",
   "metadata": {},
   "outputs": [],
   "source": [
    "hr_predict = hr_cluster.fit_predict(points)"
   ]
  },
  {
   "cell_type": "code",
   "execution_count": 24,
   "id": "67fa80a2",
   "metadata": {},
   "outputs": [
    {
     "data": {
      "image/png": "[encoded data removed]",
      "text/plain": [
       "<Figure size 720x720 with 1 Axes>"
      ]
     },
     "metadata": {
      "needs_background": "light"
     },
     "output_type": "display_data"
    }
   ],
   "source": [
    "plt.figure(figsize=(10,10))\n",
    "plt.scatter(points[hr_predict==0,0],points[hr_predict==0,1], c='green', label='customer 1', alpha=0.5)\n",
    "plt.scatter(points[hr_predict==1,0],points[hr_predict==1,1], c='blue', label='customer 2', alpha=0.5)\n",
    "plt.scatter(points[hr_predict==2,0],points[hr_predict==2,1], c='red', label='customer 3', alpha=0.5)\n",
    "plt.scatter(points[hr_predict==3,0],points[hr_predict==3,1], c='purple', label='customer 4',alpha=0.5)\n",
    "plt.scatter(points[hr_predict==4,0],points[hr_predict==4,1], c='orange', label='customer 5',alpha=0.5)\n",
    "\n",
    "plt.title(\"Hierarchical Clustering\")\n",
    "plt.xlabel(\"category:confidence\")\n",
    "plt.ylabel(\"_unit_id\")\n",
    "plt.legend()\n",
    "plt.show()\n"
   ]
  },
  {
   "cell_type": "code",
   "execution_count": null,
   "id": "de912ef7",
   "metadata": {},
   "outputs": [],
   "source": []
  }
 ],
 "metadata": {
  "kernelspec": {
   "display_name": "Python 3 (ipykernel)",
   "language": "python",
   "name": "python3"
  },
  "language_info": {
   "codemirror_mode": {
    "name": "ipython",
    "version": 3
   },
   "file_extension": ".py",
   "mimetype": "text/x-python",
   "name": "python",
   "nbconvert_exporter": "python",
   "pygments_lexer": "ipython3",
   "version": "3.9.5"
  }
 },
 "nbformat": 4,
 "nbformat_minor": 5
}
