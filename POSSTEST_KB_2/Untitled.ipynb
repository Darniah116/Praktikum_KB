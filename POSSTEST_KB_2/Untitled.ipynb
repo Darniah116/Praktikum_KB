{
 "cells": [
  {
   "cell_type": "code",
   "execution_count": 1,
   "id": "3b5ac0e9",
   "metadata": {},
   "outputs": [],
   "source": [
    "import pandas as pd\n",
    "import numpy as np"
   ]
  },
  {
   "cell_type": "code",
   "execution_count": 3,
   "id": "5004c7e9",
   "metadata": {},
   "outputs": [],
   "source": [
    "datafashion = pd.read_csv('dress.csv')"
   ]
  },
  {
   "cell_type": "code",
   "execution_count": 5,
   "id": "435cea20",
   "metadata": {},
   "outputs": [
    {
     "data": {
      "text/plain": [
       "_unit_id                 int64\n",
       "category                object\n",
       "category:confidence    float64\n",
       "image_url               object\n",
       "dtype: object"
      ]
     },
     "execution_count": 5,
     "metadata": {},
     "output_type": "execute_result"
    }
   ],
   "source": [
    "datafashion.dtypes\n"
   ]
  },
  {
   "cell_type": "code",
   "execution_count": 6,
   "id": "029fcb60",
   "metadata": {},
   "outputs": [
    {
     "data": {
      "text/html": [
       "<div>\n",
       "<style scoped>\n",
       "    .dataframe tbody tr th:only-of-type {\n",
       "        vertical-align: middle;\n",
       "    }\n",
       "\n",
       "    .dataframe tbody tr th {\n",
       "        vertical-align: top;\n",
       "    }\n",
       "\n",
       "    .dataframe thead th {\n",
       "        text-align: right;\n",
       "    }\n",
       "</style>\n",
       "<table border=\"1\" class=\"dataframe\">\n",
       "  <thead>\n",
       "    <tr style=\"text-align: right;\">\n",
       "      <th></th>\n",
       "      <th>_unit_id</th>\n",
       "      <th>category</th>\n",
       "      <th>category:confidence</th>\n",
       "      <th>image_url</th>\n",
       "    </tr>\n",
       "  </thead>\n",
       "  <tbody>\n",
       "    <tr>\n",
       "      <th>0</th>\n",
       "      <td>851505458</td>\n",
       "      <td>ikat</td>\n",
       "      <td>0.3487</td>\n",
       "      <td>http://s3-eu-west-1.amazonaws.com/we-attribute...</td>\n",
       "    </tr>\n",
       "    <tr>\n",
       "      <th>1</th>\n",
       "      <td>851505459</td>\n",
       "      <td>plain</td>\n",
       "      <td>1.0000</td>\n",
       "      <td>http://s3-eu-west-1.amazonaws.com/we-attribute...</td>\n",
       "    </tr>\n",
       "    <tr>\n",
       "      <th>2</th>\n",
       "      <td>851505460</td>\n",
       "      <td>polka dot</td>\n",
       "      <td>0.6709</td>\n",
       "      <td>http://s3-eu-west-1.amazonaws.com/we-attribute...</td>\n",
       "    </tr>\n",
       "    <tr>\n",
       "      <th>3</th>\n",
       "      <td>851505461</td>\n",
       "      <td>plain</td>\n",
       "      <td>1.0000</td>\n",
       "      <td>http://s3-eu-west-1.amazonaws.com/we-attribute...</td>\n",
       "    </tr>\n",
       "    <tr>\n",
       "      <th>4</th>\n",
       "      <td>851505462</td>\n",
       "      <td>geometry</td>\n",
       "      <td>0.7035</td>\n",
       "      <td>http://s3-eu-west-1.amazonaws.com/we-attribute...</td>\n",
       "    </tr>\n",
       "    <tr>\n",
       "      <th>...</th>\n",
       "      <td>...</td>\n",
       "      <td>...</td>\n",
       "      <td>...</td>\n",
       "      <td>...</td>\n",
       "    </tr>\n",
       "    <tr>\n",
       "      <th>15697</th>\n",
       "      <td>854497210</td>\n",
       "      <td>plain</td>\n",
       "      <td>1.0000</td>\n",
       "      <td>http://s3-eu-west-1.amazonaws.com/we-attribute...</td>\n",
       "    </tr>\n",
       "    <tr>\n",
       "      <th>15698</th>\n",
       "      <td>854497281</td>\n",
       "      <td>floral</td>\n",
       "      <td>1.0000</td>\n",
       "      <td>http://s3-eu-west-1.amazonaws.com/we-attribute...</td>\n",
       "    </tr>\n",
       "    <tr>\n",
       "      <th>15699</th>\n",
       "      <td>854497512</td>\n",
       "      <td>squares</td>\n",
       "      <td>0.9230</td>\n",
       "      <td>http://s3-eu-west-1.amazonaws.com/we-attribute...</td>\n",
       "    </tr>\n",
       "    <tr>\n",
       "      <th>15700</th>\n",
       "      <td>854497595</td>\n",
       "      <td>tribal</td>\n",
       "      <td>0.5199</td>\n",
       "      <td>http://s3-eu-west-1.amazonaws.com/we-attribute...</td>\n",
       "    </tr>\n",
       "    <tr>\n",
       "      <th>15701</th>\n",
       "      <td>856388654</td>\n",
       "      <td>polka dot</td>\n",
       "      <td>0.9618</td>\n",
       "      <td>http://s3-eu-west-1.amazonaws.com/we-attribute...</td>\n",
       "    </tr>\n",
       "  </tbody>\n",
       "</table>\n",
       "<p>15702 rows × 4 columns</p>\n",
       "</div>"
      ],
      "text/plain": [
       "        _unit_id   category  category:confidence  \\\n",
       "0      851505458       ikat               0.3487   \n",
       "1      851505459      plain               1.0000   \n",
       "2      851505460  polka dot               0.6709   \n",
       "3      851505461      plain               1.0000   \n",
       "4      851505462   geometry               0.7035   \n",
       "...          ...        ...                  ...   \n",
       "15697  854497210      plain               1.0000   \n",
       "15698  854497281     floral               1.0000   \n",
       "15699  854497512    squares               0.9230   \n",
       "15700  854497595     tribal               0.5199   \n",
       "15701  856388654  polka dot               0.9618   \n",
       "\n",
       "                                               image_url  \n",
       "0      http://s3-eu-west-1.amazonaws.com/we-attribute...  \n",
       "1      http://s3-eu-west-1.amazonaws.com/we-attribute...  \n",
       "2      http://s3-eu-west-1.amazonaws.com/we-attribute...  \n",
       "3      http://s3-eu-west-1.amazonaws.com/we-attribute...  \n",
       "4      http://s3-eu-west-1.amazonaws.com/we-attribute...  \n",
       "...                                                  ...  \n",
       "15697  http://s3-eu-west-1.amazonaws.com/we-attribute...  \n",
       "15698  http://s3-eu-west-1.amazonaws.com/we-attribute...  \n",
       "15699  http://s3-eu-west-1.amazonaws.com/we-attribute...  \n",
       "15700  http://s3-eu-west-1.amazonaws.com/we-attribute...  \n",
       "15701  http://s3-eu-west-1.amazonaws.com/we-attribute...  \n",
       "\n",
       "[15702 rows x 4 columns]"
      ]
     },
     "execution_count": 6,
     "metadata": {},
     "output_type": "execute_result"
    }
   ],
   "source": [
    "datafashion"
   ]
  },
  {
   "cell_type": "markdown",
   "id": "0e28d6df",
   "metadata": {},
   "source": [
    "## Menampilkan Isi Distionary Dengan Tipe Objek"
   ]
  },
  {
   "cell_type": "code",
   "execution_count": 7,
   "id": "a9c4ebb0",
   "metadata": {},
   "outputs": [
    {
     "data": {
      "text/plain": [
       "jumlah record                                                  15702\n",
       "nama attribut      Index(['_unit_id', 'category', 'category:confi...\n",
       "jumlah attribut                                                    2\n",
       "dtype: object"
      ]
     },
     "execution_count": 7,
     "metadata": {},
     "output_type": "execute_result"
    }
   ],
   "source": [
    "jumlahrecord = len(datafashion)\n",
    "namaattribut = datafashion.columns\n",
    "jumlahattribut = len(datafashion.select_dtypes(include=['object']).columns)\n",
    "\n",
    "dictobjt = {\n",
    "    'jumlah record': jumlahrecord,\n",
    "    'nama attribut' : namaattribut,\n",
    "    'jumlah attribut' : jumlahattribut,\n",
    "}\n",
    "pd.Series(dictobjt)"
   ]
  },
  {
   "cell_type": "markdown",
   "id": "7dd71bc7",
   "metadata": {},
   "source": [
    "## Menampilkan Isi dari Dictionary Dengan Tipe Angka"
   ]
  },
  {
   "cell_type": "code",
   "execution_count": 8,
   "id": "52e18c7f",
   "metadata": {},
   "outputs": [
    {
     "data": {
      "text/plain": [
       "jumlah attribut         1\n",
       "jumlah attribut NULL    0\n",
       "dtype: int64"
      ]
     },
     "execution_count": 8,
     "metadata": {},
     "output_type": "execute_result"
    }
   ],
   "source": [
    "jumlahattribut = len(datafashion.select_dtypes(include=['int64']).columns)\n",
    "jumlahNULL = len(datafashion.columns[datafashion.isna().sum() > 0])\n",
    "dictint = {\n",
    "    'jumlah attribut' : jumlahattribut,\n",
    "    'jumlah attribut NULL' : jumlahNULL,\n",
    "}\n",
    "pd.Series(dictint)"
   ]
  },
  {
   "cell_type": "markdown",
   "id": "ad1c92cc",
   "metadata": {},
   "source": [
    "## Menampilkan Nilai Rata-Rata(Mean)"
   ]
  },
  {
   "cell_type": "code",
   "execution_count": 9,
   "id": "cbafd571",
   "metadata": {},
   "outputs": [
    {
     "data": {
      "text/plain": [
       "_unit_id    8.515145e+08\n",
       "dtype: float64"
      ]
     },
     "execution_count": 9,
     "metadata": {},
     "output_type": "execute_result"
    }
   ],
   "source": [
    "datafashion.select_dtypes(include=['int64']).mean()"
   ]
  },
  {
   "cell_type": "markdown",
   "id": "a5f5fed4",
   "metadata": {},
   "source": [
    "## Menampilkan Nilai Standar Deviasi"
   ]
  },
  {
   "cell_type": "code",
   "execution_count": 10,
   "id": "350ff52f",
   "metadata": {},
   "outputs": [
    {
     "data": {
      "text/plain": [
       "_unit_id    61669.867668\n",
       "dtype: float64"
      ]
     },
     "execution_count": 10,
     "metadata": {},
     "output_type": "execute_result"
    }
   ],
   "source": [
    "datafashion.select_dtypes(include=['int64']).std()"
   ]
  },
  {
   "cell_type": "markdown",
   "id": "0b8c2ef1",
   "metadata": {},
   "source": [
    "## Menampilkan Nilai Minimum"
   ]
  },
  {
   "cell_type": "code",
   "execution_count": 11,
   "id": "5bf1e4f5",
   "metadata": {},
   "outputs": [
    {
     "data": {
      "text/plain": [
       "_unit_id    851505458\n",
       "dtype: int64"
      ]
     },
     "execution_count": 11,
     "metadata": {},
     "output_type": "execute_result"
    }
   ],
   "source": [
    "datafashion.select_dtypes(include=['int64']).min()"
   ]
  },
  {
   "cell_type": "markdown",
   "id": "e2ec5caf",
   "metadata": {},
   "source": [
    "## Menampilkan Nilai Maksimum"
   ]
  },
  {
   "cell_type": "code",
   "execution_count": 12,
   "id": "c012d402",
   "metadata": {},
   "outputs": [
    {
     "data": {
      "text/plain": [
       "_unit_id    856388654\n",
       "dtype: int64"
      ]
     },
     "execution_count": 12,
     "metadata": {},
     "output_type": "execute_result"
    }
   ],
   "source": [
    "datafashion.select_dtypes(include=['int64']).max()"
   ]
  },
  {
   "cell_type": "markdown",
   "id": "96d25017",
   "metadata": {},
   "source": [
    "## Menampilkan Nilai Q1, Q2, Q3"
   ]
  },
  {
   "cell_type": "code",
   "execution_count": 14,
   "id": "402167ac",
   "metadata": {},
   "outputs": [
    {
     "data": {
      "text/html": [
       "<div>\n",
       "<style scoped>\n",
       "    .dataframe tbody tr th:only-of-type {\n",
       "        vertical-align: middle;\n",
       "    }\n",
       "\n",
       "    .dataframe tbody tr th {\n",
       "        vertical-align: top;\n",
       "    }\n",
       "\n",
       "    .dataframe thead th {\n",
       "        text-align: right;\n",
       "    }\n",
       "</style>\n",
       "<table border=\"1\" class=\"dataframe\">\n",
       "  <thead>\n",
       "    <tr style=\"text-align: right;\">\n",
       "      <th></th>\n",
       "      <th>_unit_id</th>\n",
       "    </tr>\n",
       "  </thead>\n",
       "  <tbody>\n",
       "    <tr>\n",
       "      <th>0.25</th>\n",
       "      <td>8.515094e+08</td>\n",
       "    </tr>\n",
       "    <tr>\n",
       "      <th>0.50</th>\n",
       "      <td>8.515134e+08</td>\n",
       "    </tr>\n",
       "    <tr>\n",
       "      <th>0.75</th>\n",
       "      <td>8.515175e+08</td>\n",
       "    </tr>\n",
       "  </tbody>\n",
       "</table>\n",
       "</div>"
      ],
      "text/plain": [
       "          _unit_id\n",
       "0.25  8.515094e+08\n",
       "0.50  8.515134e+08\n",
       "0.75  8.515175e+08"
      ]
     },
     "execution_count": 14,
     "metadata": {},
     "output_type": "execute_result"
    }
   ],
   "source": [
    "datafashion.select_dtypes(include=['int64']).quantile([0.25, 0.50, 0.75]) "
   ]
  },
  {
   "cell_type": "markdown",
   "id": "176f4040",
   "metadata": {},
   "source": [
    "## Menampilkan Nilai Mean, Standar Deviasi, MIN, MAX, Q1,Q2,Q3"
   ]
  },
  {
   "cell_type": "code",
   "execution_count": 15,
   "id": "e23be7e0",
   "metadata": {},
   "outputs": [
    {
     "data": {
      "text/html": [
       "<div>\n",
       "<style scoped>\n",
       "    .dataframe tbody tr th:only-of-type {\n",
       "        vertical-align: middle;\n",
       "    }\n",
       "\n",
       "    .dataframe tbody tr th {\n",
       "        vertical-align: top;\n",
       "    }\n",
       "\n",
       "    .dataframe thead th {\n",
       "        text-align: right;\n",
       "    }\n",
       "</style>\n",
       "<table border=\"1\" class=\"dataframe\">\n",
       "  <thead>\n",
       "    <tr style=\"text-align: right;\">\n",
       "      <th></th>\n",
       "      <th>_unit_id</th>\n",
       "      <th>category:confidence</th>\n",
       "    </tr>\n",
       "  </thead>\n",
       "  <tbody>\n",
       "    <tr>\n",
       "      <th>count</th>\n",
       "      <td>1.570200e+04</td>\n",
       "      <td>15702.000000</td>\n",
       "    </tr>\n",
       "    <tr>\n",
       "      <th>mean</th>\n",
       "      <td>8.515145e+08</td>\n",
       "      <td>0.856637</td>\n",
       "    </tr>\n",
       "    <tr>\n",
       "      <th>std</th>\n",
       "      <td>6.166987e+04</td>\n",
       "      <td>0.216946</td>\n",
       "    </tr>\n",
       "    <tr>\n",
       "      <th>min</th>\n",
       "      <td>8.515055e+08</td>\n",
       "      <td>0.253800</td>\n",
       "    </tr>\n",
       "    <tr>\n",
       "      <th>25%</th>\n",
       "      <td>8.515094e+08</td>\n",
       "      <td>0.674500</td>\n",
       "    </tr>\n",
       "    <tr>\n",
       "      <th>50%</th>\n",
       "      <td>8.515134e+08</td>\n",
       "      <td>1.000000</td>\n",
       "    </tr>\n",
       "    <tr>\n",
       "      <th>75%</th>\n",
       "      <td>8.515175e+08</td>\n",
       "      <td>1.000000</td>\n",
       "    </tr>\n",
       "    <tr>\n",
       "      <th>max</th>\n",
       "      <td>8.563887e+08</td>\n",
       "      <td>1.000000</td>\n",
       "    </tr>\n",
       "  </tbody>\n",
       "</table>\n",
       "</div>"
      ],
      "text/plain": [
       "           _unit_id  category:confidence\n",
       "count  1.570200e+04         15702.000000\n",
       "mean   8.515145e+08             0.856637\n",
       "std    6.166987e+04             0.216946\n",
       "min    8.515055e+08             0.253800\n",
       "25%    8.515094e+08             0.674500\n",
       "50%    8.515134e+08             1.000000\n",
       "75%    8.515175e+08             1.000000\n",
       "max    8.563887e+08             1.000000"
      ]
     },
     "execution_count": 15,
     "metadata": {},
     "output_type": "execute_result"
    }
   ],
   "source": [
    "datafashion.describe()"
   ]
  },
  {
   "cell_type": "markdown",
   "id": "a94b1102",
   "metadata": {},
   "source": [
    "## Menampilkan Nilai Korelasi"
   ]
  },
  {
   "cell_type": "code",
   "execution_count": 16,
   "id": "7b16930a",
   "metadata": {},
   "outputs": [
    {
     "data": {
      "text/html": [
       "<div>\n",
       "<style scoped>\n",
       "    .dataframe tbody tr th:only-of-type {\n",
       "        vertical-align: middle;\n",
       "    }\n",
       "\n",
       "    .dataframe tbody tr th {\n",
       "        vertical-align: top;\n",
       "    }\n",
       "\n",
       "    .dataframe thead th {\n",
       "        text-align: right;\n",
       "    }\n",
       "</style>\n",
       "<table border=\"1\" class=\"dataframe\">\n",
       "  <thead>\n",
       "    <tr style=\"text-align: right;\">\n",
       "      <th></th>\n",
       "      <th>_unit_id</th>\n",
       "    </tr>\n",
       "  </thead>\n",
       "  <tbody>\n",
       "    <tr>\n",
       "      <th>_unit_id</th>\n",
       "      <td>1.0</td>\n",
       "    </tr>\n",
       "  </tbody>\n",
       "</table>\n",
       "</div>"
      ],
      "text/plain": [
       "          _unit_id\n",
       "_unit_id       1.0"
      ]
     },
     "execution_count": 16,
     "metadata": {},
     "output_type": "execute_result"
    }
   ],
   "source": [
    "datafashion.select_dtypes(include=['int64']).corr()"
   ]
  },
  {
   "cell_type": "markdown",
   "id": "ff93320c",
   "metadata": {},
   "source": [
    "## Mengubah Nilai"
   ]
  },
  {
   "cell_type": "code",
   "execution_count": 17,
   "id": "67b7c571",
   "metadata": {},
   "outputs": [
    {
     "data": {
      "text/plain": [
       "dtype('float64')"
      ]
     },
     "execution_count": 17,
     "metadata": {},
     "output_type": "execute_result"
    }
   ],
   "source": [
    "datafashion[\"_unit_id\"] = datafashion[\"_unit_id\"].astype('float64', errors='ignore')\n",
    "datafashion[\"_unit_id\"].dtypes"
   ]
  },
  {
   "cell_type": "markdown",
   "id": "73426af9",
   "metadata": {},
   "source": [
    "## Menampilkan Setelah Nilai Diubah "
   ]
  },
  {
   "cell_type": "code",
   "execution_count": 18,
   "id": "c414fd15",
   "metadata": {},
   "outputs": [
    {
     "data": {
      "text/plain": [
       "0       851505458.000\n",
       "1       851505459.000\n",
       "2       851505460.000\n",
       "3       851505461.000\n",
       "4       851505462.000\n",
       "             ...     \n",
       "15697   854497210.000\n",
       "15698   854497281.000\n",
       "15699   854497512.000\n",
       "15700   854497595.000\n",
       "15701   856388654.000\n",
       "Name: _unit_id, Length: 15702, dtype: float64"
      ]
     },
     "execution_count": 18,
     "metadata": {},
     "output_type": "execute_result"
    }
   ],
   "source": [
    "pd.options.display.float_format = '{:.3f}'.format\n",
    "datafashion._unit_id.astype('float64')"
   ]
  },
  {
   "cell_type": "markdown",
   "id": "9d382404",
   "metadata": {},
   "source": [
    "## Menampilkan 10 Record Pertama"
   ]
  },
  {
   "cell_type": "code",
   "execution_count": 19,
   "id": "879e47c0",
   "metadata": {},
   "outputs": [
    {
     "data": {
      "text/html": [
       "<div>\n",
       "<style scoped>\n",
       "    .dataframe tbody tr th:only-of-type {\n",
       "        vertical-align: middle;\n",
       "    }\n",
       "\n",
       "    .dataframe tbody tr th {\n",
       "        vertical-align: top;\n",
       "    }\n",
       "\n",
       "    .dataframe thead th {\n",
       "        text-align: right;\n",
       "    }\n",
       "</style>\n",
       "<table border=\"1\" class=\"dataframe\">\n",
       "  <thead>\n",
       "    <tr style=\"text-align: right;\">\n",
       "      <th></th>\n",
       "    </tr>\n",
       "  </thead>\n",
       "  <tbody>\n",
       "    <tr>\n",
       "      <th>0</th>\n",
       "    </tr>\n",
       "    <tr>\n",
       "      <th>1</th>\n",
       "    </tr>\n",
       "    <tr>\n",
       "      <th>2</th>\n",
       "    </tr>\n",
       "    <tr>\n",
       "      <th>3</th>\n",
       "    </tr>\n",
       "    <tr>\n",
       "      <th>4</th>\n",
       "    </tr>\n",
       "    <tr>\n",
       "      <th>5</th>\n",
       "    </tr>\n",
       "    <tr>\n",
       "      <th>6</th>\n",
       "    </tr>\n",
       "    <tr>\n",
       "      <th>7</th>\n",
       "    </tr>\n",
       "    <tr>\n",
       "      <th>8</th>\n",
       "    </tr>\n",
       "    <tr>\n",
       "      <th>9</th>\n",
       "    </tr>\n",
       "  </tbody>\n",
       "</table>\n",
       "</div>"
      ],
      "text/plain": [
       "Empty DataFrame\n",
       "Columns: []\n",
       "Index: [0, 1, 2, 3, 4, 5, 6, 7, 8, 9]"
      ]
     },
     "execution_count": 19,
     "metadata": {},
     "output_type": "execute_result"
    }
   ],
   "source": [
    "datafashion.select_dtypes(include=['int64']).head(10)"
   ]
  },
  {
   "cell_type": "markdown",
   "id": "3411dc8e",
   "metadata": {},
   "source": [
    "## Menyimpan Dataset Dengan attribute Bertipe Angka ke dalam file CSV.\n"
   ]
  },
  {
   "cell_type": "code",
   "execution_count": 25,
   "id": "ff52ebd0",
   "metadata": {},
   "outputs": [],
   "source": [
    "datafashion.select_dtypes(include=['int64']).to_csv(\"Attribut_Bertipe_Fashion_Dataset.csv\", index=False)"
   ]
  },
  {
   "cell_type": "code",
   "execution_count": null,
   "id": "e2caf573",
   "metadata": {},
   "outputs": [],
   "source": []
  }
 ],
 "metadata": {
  "kernelspec": {
   "display_name": "Python 3 (ipykernel)",
   "language": "python",
   "name": "python3"
  },
  "language_info": {
   "codemirror_mode": {
    "name": "ipython",
    "version": 3
   },
   "file_extension": ".py",
   "mimetype": "text/x-python",
   "name": "python",
   "nbconvert_exporter": "python",
   "pygments_lexer": "ipython3",
   "version": "3.9.5"
  }
 },
 "nbformat": 4,
 "nbformat_minor": 5
}
