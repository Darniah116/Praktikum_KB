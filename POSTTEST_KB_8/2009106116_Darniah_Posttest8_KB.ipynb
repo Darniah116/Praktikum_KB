{
 "cells": [
  {
   "cell_type": "markdown",
   "id": "c0bb3d14",
   "metadata": {},
   "source": [
    "## Import Library"
   ]
  },
  {
   "cell_type": "code",
   "execution_count": 2,
   "id": "b7a1cfd0",
   "metadata": {},
   "outputs": [],
   "source": [
    "import tensorflow as tf\n",
    "import matplotlib.pyplot as plt\n",
    "import numpy as np\n",
    "import os\n",
    "\n",
    "from tensorflow import keras\n",
    "from tensorflow.keras import layers,optimizers,datasets\n",
    "from tensorflow.keras import Sequential\n",
    "from tensorflow.keras.layers import Dense\n",
    "import tensorflow.keras.datasets as tfds\n"
   ]
  },
  {
   "cell_type": "code",
   "execution_count": 3,
   "id": "d2745cbe",
   "metadata": {},
   "outputs": [],
   "source": [
    "import warnings\n",
    "warnings.filterwarnings('ignore')"
   ]
  },
  {
   "cell_type": "markdown",
   "id": "44297b0a",
   "metadata": {},
   "source": [
    "## DNN - Simple Regression\n",
    "### membuat data"
   ]
  },
  {
   "cell_type": "code",
   "execution_count": 8,
   "id": "896f3e20",
   "metadata": {},
   "outputs": [],
   "source": [
    "x = np.array([4,5,6,7,8,9],dtype = float)\n",
    "y = np.array([5,6,7,10,12,14],dtype= float)"
   ]
  },
  {
   "cell_type": "markdown",
   "id": "3960a3f2",
   "metadata": {},
   "source": [
    "### visualisasi scatter"
   ]
  },
  {
   "cell_type": "code",
   "execution_count": 9,
   "id": "ff9341cb",
   "metadata": {},
   "outputs": [
    {
     "data": {
      "image/png": "[encoded data removed]",
      "text/plain": [
       "<Figure size 432x288 with 1 Axes>"
      ]
     },
     "metadata": {
      "needs_background": "light"
     },
     "output_type": "display_data"
    }
   ],
   "source": [
    "plt.scatter(x, y)\n",
    "plt.show()"
   ]
  },
  {
   "cell_type": "markdown",
   "id": "e50879c5",
   "metadata": {},
   "source": [
    "## Membuat Model Sequential\n",
    "#### Tahap Modeling\n",
    "a. arsitektur\n",
    "b. konfigurasi\n",
    "c. model training"
   ]
  },
  {
   "cell_type": "code",
   "execution_count": 15,
   "id": "3ef3f286",
   "metadata": {},
   "outputs": [],
   "source": [
    "#membuat model\n",
    "model = tf.keras.Sequential([\n",
    "    tf.keras.layers.Dense(units=1, input_shape=[1])\n",
    "])"
   ]
  },
  {
   "cell_type": "code",
   "execution_count": 16,
   "id": "778eb5ff",
   "metadata": {},
   "outputs": [],
   "source": [
    "#konfigurasi model\n",
    "model.compile(\n",
    "    optimizer='adam', \n",
    "    loss='mae'\n",
    ")"
   ]
  },
  {
   "cell_type": "code",
   "execution_count": 18,
   "id": "1d3e6157",
   "metadata": {},
   "outputs": [
    {
     "name": "stdout",
     "output_type": "stream",
     "text": [
      "Epoch 1/50\n",
      "40/40 [==============================] - 0s 3ms/step - loss: 17.1845\n",
      "Epoch 2/50\n",
      "40/40 [==============================] - 0s 3ms/step - loss: 17.1975\n",
      "Epoch 3/50\n",
      "40/40 [==============================] - 0s 3ms/step - loss: 16.7915\n",
      "Epoch 4/50\n",
      "40/40 [==============================] - 0s 3ms/step - loss: 16.4202\n",
      "Epoch 5/50\n",
      "40/40 [==============================] - 0s 3ms/step - loss: 16.4737\n",
      "Epoch 6/50\n",
      "40/40 [==============================] - 0s 3ms/step - loss: 15.6565\n",
      "Epoch 7/50\n",
      "40/40 [==============================] - 0s 3ms/step - loss: 15.3705\n",
      "Epoch 8/50\n",
      "18/40 [============>.................] - ETA: 0s - loss: 15.8444WARNING:tensorflow:Your input ran out of data; interrupting training. Make sure that your dataset or generator can generate at least `steps_per_epoch * epochs` batches (in this case, 2000 batches). You may need to use the repeat() function when building your dataset.\n",
      "40/40 [==============================] - 0s 2ms/step - loss: 15.8415\n"
     ]
    },
    {
     "data": {
      "text/plain": [
       "<keras.callbacks.History at 0x19873824bb0>"
      ]
     },
     "execution_count": 18,
     "metadata": {},
     "output_type": "execute_result"
    }
   ],
   "source": [
    "#modeling data\n",
    "model.fit(\n",
    "    x, y,\n",
    "    epochs=50, #perulangan model\n",
    "    steps_per_epoch=40\n",
    ")"
   ]
  },
  {
   "cell_type": "markdown",
   "id": "7c8b6f97",
   "metadata": {},
   "source": [
    "## DNN - MNIST Regression"
   ]
  },
  {
   "cell_type": "code",
   "execution_count": 19,
   "id": "67285ae8",
   "metadata": {},
   "outputs": [
    {
     "name": "stdout",
     "output_type": "stream",
     "text": [
      "Downloading data from https://storage.googleapis.com/tensorflow/tf-keras-datasets/mnist.npz\n",
      "11490434/11490434 [==============================] - 4s 0us/step\n"
     ]
    }
   ],
   "source": [
    "#load dataset\n",
    "(x_train, y_train),(x_test, y_test) = tfds.mnist.load_data()"
   ]
  },
  {
   "cell_type": "code",
   "execution_count": 20,
   "id": "51d98708",
   "metadata": {},
   "outputs": [
    {
     "name": "stdout",
     "output_type": "stream",
     "text": [
      "5\n",
      "(60000, 28, 28)\n",
      "(10000, 28, 28)\n"
     ]
    }
   ],
   "source": [
    "print(y_train[0])\n",
    "print(x_train.shape)\n",
    "print(x_test.shape)"
   ]
  },
  {
   "cell_type": "code",
   "execution_count": 21,
   "id": "8ecb34af",
   "metadata": {},
   "outputs": [],
   "source": [
    "num_class = len(np.unique(y_train))\n",
    "y_train = tf.keras.utils.to_categorical(y_train, num_class)\n",
    "y_test = tf.keras.utils.to_categorical(y_test, num_class)"
   ]
  },
  {
   "cell_type": "code",
   "execution_count": 22,
   "id": "652d3073",
   "metadata": {},
   "outputs": [
    {
     "data": {
      "image/png": "[encoded data removed]",
      "text/plain": [
       "<Figure size 432x288 with 5 Axes>"
      ]
     },
     "metadata": {
      "needs_background": "light"
     },
     "output_type": "display_data"
    }
   ],
   "source": [
    "plt.figure()\n",
    "for i in range(5):\n",
    "    plt.subplot(5,5,i+1)\n",
    "    plt.imshow(x_train[i])\n",
    "    plt.axis('off')\n",
    "plt.show()"
   ]
  },
  {
   "cell_type": "code",
   "execution_count": null,
   "id": "af5471e7",
   "metadata": {},
   "outputs": [],
   "source": []
  },
  {
   "cell_type": "markdown",
   "id": "fc128745",
   "metadata": {},
   "source": [
    "## Normalisasi"
   ]
  },
  {
   "cell_type": "code",
   "execution_count": 23,
   "id": "b30fbb5a",
   "metadata": {},
   "outputs": [],
   "source": [
    "x_train = tf.reshape(x_train,[60000, 784])\n",
    "x_test = tf.reshape(x_test,[10000, 784])"
   ]
  },
  {
   "cell_type": "code",
   "execution_count": 24,
   "id": "a29a036a",
   "metadata": {},
   "outputs": [
    {
     "data": {
      "text/plain": [
       "tensorflow.python.framework.ops.EagerTensor"
      ]
     },
     "execution_count": 24,
     "metadata": {},
     "output_type": "execute_result"
    }
   ],
   "source": [
    "type(x_train)"
   ]
  },
  {
   "cell_type": "code",
   "execution_count": 25,
   "id": "369bd584",
   "metadata": {},
   "outputs": [],
   "source": [
    "x_train = tf.cast(x_train, tf.float32)/255\n",
    "x_test = tf.cast(x_test, tf.float32)/255"
   ]
  },
  {
   "cell_type": "markdown",
   "id": "9d52b4b2",
   "metadata": {},
   "source": [
    "## Membuat Model"
   ]
  },
  {
   "cell_type": "code",
   "execution_count": 26,
   "id": "6440337a",
   "metadata": {},
   "outputs": [
    {
     "name": "stdout",
     "output_type": "stream",
     "text": [
      "Model: \"sequential_3\"\n",
      "_________________________________________________________________\n",
      " Layer (type)                Output Shape              Param #   \n",
      "=================================================================\n",
      " dense_3 (Dense)             (None, 32)                25120     \n",
      "                                                                 \n",
      " dense_4 (Dense)             (None, 32)                1056      \n",
      "                                                                 \n",
      " dense_5 (Dense)             (None, 10)                330       \n",
      "                                                                 \n",
      "=================================================================\n",
      "Total params: 26,506\n",
      "Trainable params: 26,506\n",
      "Non-trainable params: 0\n",
      "_________________________________________________________________\n"
     ]
    }
   ],
   "source": [
    "\n",
    "#arsitektur\n",
    "model = tf.keras.Sequential([\n",
    "    tf.keras.layers.Dense(32, activation='relu', input_dim = 784),#layer\n",
    "    tf.keras.layers.Dense(32, activation='relu'),\n",
    "    tf.keras.layers.Dense(num_class, activation='softmax')\n",
    "])\n",
    "model.summary()"
   ]
  },
  {
   "cell_type": "markdown",
   "id": "51a39694",
   "metadata": {},
   "source": [
    "### Konfigurasi Model"
   ]
  },
  {
   "cell_type": "code",
   "execution_count": 27,
   "id": "f3302741",
   "metadata": {},
   "outputs": [],
   "source": [
    "\n",
    "#konfigurasi\n",
    "model.compile(\n",
    "    optimizer = tf.keras.optimizers.Adam(), #adam(learning_rate=1e-4)\n",
    "    loss = tf.keras.losses.categorical_crossentropy,\n",
    "    metrics = ['accuracy']\n",
    ")\n"
   ]
  },
  {
   "cell_type": "markdown",
   "id": "db18f7e0",
   "metadata": {},
   "source": [
    "### Training Model"
   ]
  },
  {
   "cell_type": "code",
   "execution_count": 29,
   "id": "7162b825",
   "metadata": {
    "scrolled": true
   },
   "outputs": [
    {
     "name": "stdout",
     "output_type": "stream",
     "text": [
      "Epoch 1/50\n",
      "15/15 - 0s - loss: 0.2177 - accuracy: 0.9354 - val_loss: 0.2059 - val_accuracy: 0.9408 - 415ms/epoch - 28ms/step\n",
      "Epoch 2/50\n",
      "15/15 - 0s - loss: 0.2016 - accuracy: 0.9458 - val_loss: 0.2091 - val_accuracy: 0.9386 - 345ms/epoch - 23ms/step\n",
      "Epoch 3/50\n",
      "15/15 - 0s - loss: 0.2046 - accuracy: 0.9370 - val_loss: 0.2067 - val_accuracy: 0.9390 - 347ms/epoch - 23ms/step\n",
      "Epoch 4/50\n",
      "15/15 - 0s - loss: 0.2123 - accuracy: 0.9375 - val_loss: 0.2028 - val_accuracy: 0.9389 - 358ms/epoch - 24ms/step\n",
      "Epoch 5/50\n",
      "15/15 - 0s - loss: 0.1999 - accuracy: 0.9411 - val_loss: 0.2027 - val_accuracy: 0.9403 - 353ms/epoch - 24ms/step\n",
      "Epoch 6/50\n",
      "15/15 - 0s - loss: 0.2182 - accuracy: 0.9312 - val_loss: 0.2051 - val_accuracy: 0.9398 - 318ms/epoch - 21ms/step\n",
      "Epoch 7/50\n",
      "15/15 - 0s - loss: 0.1975 - accuracy: 0.9417 - val_loss: 0.2040 - val_accuracy: 0.9402 - 325ms/epoch - 22ms/step\n",
      "Epoch 8/50\n",
      "15/15 - 0s - loss: 0.1876 - accuracy: 0.9458 - val_loss: 0.2079 - val_accuracy: 0.9395 - 376ms/epoch - 25ms/step\n",
      "Epoch 9/50\n",
      "15/15 - 0s - loss: 0.2013 - accuracy: 0.9385 - val_loss: 0.2026 - val_accuracy: 0.9404 - 348ms/epoch - 23ms/step\n",
      "Epoch 10/50\n",
      "15/15 - 0s - loss: 0.2081 - accuracy: 0.9391 - val_loss: 0.2061 - val_accuracy: 0.9373 - 318ms/epoch - 21ms/step\n",
      "Epoch 11/50\n",
      "15/15 - 0s - loss: 0.1943 - accuracy: 0.9427 - val_loss: 0.1935 - val_accuracy: 0.9442 - 317ms/epoch - 21ms/step\n",
      "Epoch 12/50\n",
      "15/15 - 0s - loss: 0.2176 - accuracy: 0.9359 - val_loss: 0.1983 - val_accuracy: 0.9423 - 317ms/epoch - 21ms/step\n",
      "Epoch 13/50\n",
      "15/15 - 0s - loss: 0.2049 - accuracy: 0.9406 - val_loss: 0.1933 - val_accuracy: 0.9432 - 322ms/epoch - 21ms/step\n",
      "Epoch 14/50\n",
      "15/15 - 0s - loss: 0.2341 - accuracy: 0.9370 - val_loss: 0.1909 - val_accuracy: 0.9446 - 357ms/epoch - 24ms/step\n",
      "Epoch 15/50\n",
      "15/15 - 0s - loss: 0.2087 - accuracy: 0.9380 - val_loss: 0.1942 - val_accuracy: 0.9425 - 348ms/epoch - 23ms/step\n",
      "Epoch 16/50\n",
      "15/15 - 0s - loss: 0.1935 - accuracy: 0.9464 - val_loss: 0.1918 - val_accuracy: 0.9435 - 319ms/epoch - 21ms/step\n",
      "Epoch 17/50\n",
      "15/15 - 0s - loss: 0.1882 - accuracy: 0.9438 - val_loss: 0.1980 - val_accuracy: 0.9424 - 321ms/epoch - 21ms/step\n",
      "Epoch 18/50\n",
      "15/15 - 0s - loss: 0.1839 - accuracy: 0.9427 - val_loss: 0.2000 - val_accuracy: 0.9413 - 367ms/epoch - 24ms/step\n",
      "Epoch 19/50\n",
      "15/15 - 0s - loss: 0.1751 - accuracy: 0.9453 - val_loss: 0.1975 - val_accuracy: 0.9429 - 388ms/epoch - 26ms/step\n",
      "Epoch 20/50\n",
      "15/15 - 0s - loss: 0.1838 - accuracy: 0.9479 - val_loss: 0.1927 - val_accuracy: 0.9450 - 363ms/epoch - 24ms/step\n",
      "Epoch 21/50\n",
      "15/15 - 0s - loss: 0.1852 - accuracy: 0.9438 - val_loss: 0.1864 - val_accuracy: 0.9454 - 347ms/epoch - 23ms/step\n",
      "Epoch 22/50\n",
      "15/15 - 0s - loss: 0.2248 - accuracy: 0.9365 - val_loss: 0.1855 - val_accuracy: 0.9470 - 333ms/epoch - 22ms/step\n",
      "Epoch 23/50\n",
      "15/15 - 0s - loss: 0.1768 - accuracy: 0.9474 - val_loss: 0.1822 - val_accuracy: 0.9476 - 304ms/epoch - 20ms/step\n",
      "Epoch 24/50\n",
      "15/15 - 0s - loss: 0.2257 - accuracy: 0.9391 - val_loss: 0.1809 - val_accuracy: 0.9476 - 306ms/epoch - 20ms/step\n",
      "Epoch 25/50\n",
      "15/15 - 0s - loss: 0.1916 - accuracy: 0.9469 - val_loss: 0.1821 - val_accuracy: 0.9452 - 385ms/epoch - 26ms/step\n",
      "Epoch 26/50\n",
      "15/15 - 0s - loss: 0.2422 - accuracy: 0.9286 - val_loss: 0.1806 - val_accuracy: 0.9465 - 383ms/epoch - 26ms/step\n",
      "Epoch 27/50\n",
      "15/15 - 0s - loss: 0.1791 - accuracy: 0.9453 - val_loss: 0.1867 - val_accuracy: 0.9457 - 393ms/epoch - 26ms/step\n",
      "Epoch 28/50\n",
      "15/15 - 0s - loss: 0.1609 - accuracy: 0.9510 - val_loss: 0.1813 - val_accuracy: 0.9474 - 351ms/epoch - 23ms/step\n",
      "Epoch 29/50\n",
      "15/15 - 0s - loss: 0.1842 - accuracy: 0.9484 - val_loss: 0.1771 - val_accuracy: 0.9480 - 333ms/epoch - 22ms/step\n",
      "Epoch 30/50\n",
      "15/15 - 0s - loss: 0.1726 - accuracy: 0.9474 - val_loss: 0.1818 - val_accuracy: 0.9481 - 309ms/epoch - 21ms/step\n",
      "Epoch 31/50\n",
      "15/15 - 0s - loss: 0.1786 - accuracy: 0.9417 - val_loss: 0.1747 - val_accuracy: 0.9484 - 366ms/epoch - 24ms/step\n",
      "Epoch 32/50\n",
      "15/15 - 0s - loss: 0.1661 - accuracy: 0.9550 - val_loss: 0.1779 - val_accuracy: 0.9486 - 353ms/epoch - 24ms/step\n",
      "Epoch 33/50\n",
      "15/15 - 0s - loss: 0.1617 - accuracy: 0.9531 - val_loss: 0.1849 - val_accuracy: 0.9439 - 344ms/epoch - 23ms/step\n",
      "Epoch 34/50\n",
      "15/15 - 0s - loss: 0.1778 - accuracy: 0.9521 - val_loss: 0.1738 - val_accuracy: 0.9479 - 342ms/epoch - 23ms/step\n",
      "Epoch 35/50\n",
      "15/15 - 0s - loss: 0.1962 - accuracy: 0.9401 - val_loss: 0.1778 - val_accuracy: 0.9462 - 364ms/epoch - 24ms/step\n",
      "Epoch 36/50\n",
      "15/15 - 0s - loss: 0.1577 - accuracy: 0.9552 - val_loss: 0.1729 - val_accuracy: 0.9505 - 415ms/epoch - 28ms/step\n",
      "Epoch 37/50\n",
      "15/15 - 0s - loss: 0.1846 - accuracy: 0.9443 - val_loss: 0.1763 - val_accuracy: 0.9491 - 347ms/epoch - 23ms/step\n",
      "Epoch 38/50\n",
      "15/15 - 0s - loss: 0.1509 - accuracy: 0.9542 - val_loss: 0.1754 - val_accuracy: 0.9478 - 362ms/epoch - 24ms/step\n",
      "Epoch 39/50\n",
      "15/15 - 0s - loss: 0.1851 - accuracy: 0.9438 - val_loss: 0.1784 - val_accuracy: 0.9490 - 328ms/epoch - 22ms/step\n",
      "Epoch 40/50\n",
      "15/15 - 0s - loss: 0.1692 - accuracy: 0.9510 - val_loss: 0.1722 - val_accuracy: 0.9501 - 347ms/epoch - 23ms/step\n",
      "Epoch 41/50\n",
      "15/15 - 0s - loss: 0.1598 - accuracy: 0.9505 - val_loss: 0.1743 - val_accuracy: 0.9498 - 362ms/epoch - 24ms/step\n",
      "Epoch 42/50\n",
      "15/15 - 0s - loss: 0.1644 - accuracy: 0.9495 - val_loss: 0.1664 - val_accuracy: 0.9506 - 333ms/epoch - 22ms/step\n",
      "Epoch 43/50\n",
      "15/15 - 0s - loss: 0.1514 - accuracy: 0.9542 - val_loss: 0.1661 - val_accuracy: 0.9516 - 317ms/epoch - 21ms/step\n",
      "Epoch 44/50\n",
      "15/15 - 0s - loss: 0.1706 - accuracy: 0.9547 - val_loss: 0.1696 - val_accuracy: 0.9504 - 343ms/epoch - 23ms/step\n",
      "Epoch 45/50\n",
      "15/15 - 0s - loss: 0.1671 - accuracy: 0.9469 - val_loss: 0.1748 - val_accuracy: 0.9481 - 353ms/epoch - 24ms/step\n",
      "Epoch 46/50\n",
      "15/15 - 0s - loss: 0.1761 - accuracy: 0.9432 - val_loss: 0.1655 - val_accuracy: 0.9538 - 350ms/epoch - 23ms/step\n",
      "Epoch 47/50\n",
      "15/15 - 0s - loss: 0.1551 - accuracy: 0.9563 - val_loss: 0.1681 - val_accuracy: 0.9517 - 333ms/epoch - 22ms/step\n",
      "Epoch 48/50\n",
      "15/15 - 0s - loss: 0.1699 - accuracy: 0.9500 - val_loss: 0.1682 - val_accuracy: 0.9530 - 337ms/epoch - 22ms/step\n",
      "Epoch 49/50\n",
      "15/15 - 0s - loss: 0.1618 - accuracy: 0.9583 - val_loss: 0.1622 - val_accuracy: 0.9538 - 317ms/epoch - 21ms/step\n",
      "Epoch 50/50\n",
      "15/15 - 0s - loss: 0.1573 - accuracy: 0.9568 - val_loss: 0.1657 - val_accuracy: 0.9513 - 343ms/epoch - 23ms/step\n"
     ]
    }
   ],
   "source": [
    "# training\n",
    "history = model.fit(\n",
    "    x_train, y_train,\n",
    "    epochs = 50, \n",
    "    steps_per_epoch = 15,\n",
    "    batch_size=128, \n",
    "    verbose = 2 ,#tanpa animasi\n",
    "    validation_data=(x_test, y_test)\n",
    ")"
   ]
  },
  {
   "cell_type": "markdown",
   "id": "0840c643",
   "metadata": {},
   "source": [
    "### History Training"
   ]
  },
  {
   "cell_type": "code",
   "execution_count": 30,
   "id": "5bd50feb",
   "metadata": {
    "scrolled": true
   },
   "outputs": [
    {
     "data": {
      "image/png": "[encoded data removed]",
      "text/plain": [
       "<Figure size 432x288 with 1 Axes>"
      ]
     },
     "metadata": {
      "needs_background": "light"
     },
     "output_type": "display_data"
    }
   ],
   "source": [
    "\n",
    "nilai_x = range(len(history.history['accuracy']))\n",
    "plt.plot(nilai_x, history.history['accuracy'], label='Training')\n",
    "plt.plot(nilai_x, history.history['val_accuracy'], label='Validation')\n",
    "plt.legend()\n",
    "plt.show()"
   ]
  },
  {
   "cell_type": "markdown",
   "id": "82060063",
   "metadata": {},
   "source": [
    "### Evaluasi Model"
   ]
  },
  {
   "cell_type": "code",
   "execution_count": 31,
   "id": "9d8fb856",
   "metadata": {},
   "outputs": [
    {
     "name": "stdout",
     "output_type": "stream",
     "text": [
      "313/313 [==============================] - 1s 3ms/step - loss: 0.1657 - accuracy: 0.9513\n"
     ]
    },
    {
     "data": {
      "text/plain": [
       "[0.1656694859266281, 0.9513000249862671]"
      ]
     },
     "execution_count": 31,
     "metadata": {},
     "output_type": "execute_result"
    }
   ],
   "source": [
    "\n",
    "model.evaluate(x_test, y_test)"
   ]
  },
  {
   "cell_type": "markdown",
   "id": "158a810a",
   "metadata": {},
   "source": [
    "### Save Model"
   ]
  },
  {
   "cell_type": "code",
   "execution_count": 34,
   "id": "f9246700",
   "metadata": {},
   "outputs": [
    {
     "name": "stdout",
     "output_type": "stream",
     "text": [
      "INFO:tensorflow:Assets written to: model/model.h10\\assets\n"
     ]
    }
   ],
   "source": [
    "\n",
    "model.save('model/model.h10')"
   ]
  },
  {
   "cell_type": "code",
   "execution_count": 35,
   "id": "4ec33818",
   "metadata": {},
   "outputs": [
    {
     "name": "stdout",
     "output_type": "stream",
     "text": [
      "Model: \"sequential_3\"\n",
      "_________________________________________________________________\n",
      " Layer (type)                Output Shape              Param #   \n",
      "=================================================================\n",
      " dense_3 (Dense)             (None, 32)                25120     \n",
      "                                                                 \n",
      " dense_4 (Dense)             (None, 32)                1056      \n",
      "                                                                 \n",
      " dense_5 (Dense)             (None, 10)                330       \n",
      "                                                                 \n",
      "=================================================================\n",
      "Total params: 26,506\n",
      "Trainable params: 26,506\n",
      "Non-trainable params: 0\n",
      "_________________________________________________________________\n"
     ]
    }
   ],
   "source": [
    "model_saved = tf.keras.models.load_model('model/model.h10')\n",
    "model_saved.summary()"
   ]
  },
  {
   "cell_type": "code",
   "execution_count": 36,
   "id": "90ac20dd",
   "metadata": {},
   "outputs": [
    {
     "name": "stdout",
     "output_type": "stream",
     "text": [
      "313/313 [==============================] - 1s 3ms/step - loss: 0.1657 - accuracy: 0.9513\n"
     ]
    },
    {
     "data": {
      "text/plain": [
       "[0.1656694859266281, 0.9513000249862671]"
      ]
     },
     "execution_count": 36,
     "metadata": {},
     "output_type": "execute_result"
    }
   ],
   "source": [
    "model_saved.evaluate(x_test, y_test, batch_size=32)"
   ]
  },
  {
   "cell_type": "markdown",
   "id": "c6fdc43b",
   "metadata": {},
   "source": [
    "### Prediksi Model"
   ]
  },
  {
   "cell_type": "code",
   "execution_count": 40,
   "id": "6541464f",
   "metadata": {},
   "outputs": [],
   "source": [
    "model_mnist = keras.Sequential()"
   ]
  },
  {
   "cell_type": "code",
   "execution_count": 41,
   "id": "ee6a3d7b",
   "metadata": {},
   "outputs": [
    {
     "name": "stdout",
     "output_type": "stream",
     "text": [
      "313/313 [==============================] - 1s 2ms/step\n"
     ]
    }
   ],
   "source": [
    "predictions = model_mnist.predict(x_test)"
   ]
  },
  {
   "cell_type": "code",
   "execution_count": 45,
   "id": "49d0ad99",
   "metadata": {},
   "outputs": [],
   "source": [
    "from tensorflow.python.ops.numpy_ops import np_config\n",
    "np_config.enable_numpy_behavior()"
   ]
  },
  {
   "cell_type": "code",
   "execution_count": 47,
   "id": "c6a94fa6",
   "metadata": {},
   "outputs": [
    {
     "data": {
      "image/png": "[encoded data removed]",
      "text/plain": [
       "<Figure size 432x288 with 1 Axes>"
      ]
     },
     "metadata": {
      "needs_background": "light"
     },
     "output_type": "display_data"
    }
   ],
   "source": [
    "label = np.argmax(predictions,axis=1)\n",
    "ActualLabel = np.argmax(y_test[10])\n",
    "\n",
    "\n",
    "\n",
    "img = x_test[10].reshape(28, 28)\n",
    "\n",
    "plt.title(f\"Aktual Label : {ActualLabel}, Predicted Label : {label[4]}\")\n",
    "\n",
    "plt.imshow(img)\n",
    "plt.show()"
   ]
  },
  {
   "cell_type": "code",
   "execution_count": 37,
   "id": "25783c00",
   "metadata": {},
   "outputs": [
    {
     "name": "stdout",
     "output_type": "stream",
     "text": [
      "1875/1875 [==============================] - 5s 3ms/step\n"
     ]
    }
   ],
   "source": [
    "hasil = model_saved.predict(x_train)"
   ]
  },
  {
   "cell_type": "code",
   "execution_count": null,
   "id": "f60ea21c",
   "metadata": {},
   "outputs": [],
   "source": []
  }
 ],
 "metadata": {
  "kernelspec": {
   "display_name": "Python 3 (ipykernel)",
   "language": "python",
   "name": "python3"
  },
  "language_info": {
   "codemirror_mode": {
    "name": "ipython",
    "version": 3
   },
   "file_extension": ".py",
   "mimetype": "text/x-python",
   "name": "python",
   "nbconvert_exporter": "python",
   "pygments_lexer": "ipython3",
   "version": "3.9.5"
  }
 },
 "nbformat": 4,
 "nbformat_minor": 5
}
